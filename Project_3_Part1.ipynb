{
 "cells": [
  {
   "cell_type": "markdown",
   "metadata": {},
   "source": [
    "# Start Pipeline"
   ]
  },
  {
   "cell_type": "code",
   "execution_count": 1,
   "metadata": {},
   "outputs": [
    {
     "name": "stdout",
     "output_type": "stream",
     "text": [
      "Stopping project-3-spanesarmids_spark_1      ... \n",
      "Stopping project-3-spanesarmids_kafka_1      ... \n",
      "Stopping project-3-spanesarmids_zookeeper_1  ... \n",
      "Stopping project-3-spanesarmids_flask_1      ... \n",
      "Stopping project-3-spanesarmids_api_bridge_1 ... \n",
      "Stopping project-3-spanesarmids_presto_1     ... \n",
      "\u001b[4Bping project-3-spanesarmids_zookeeper_1  ... \u001b[32mdone\u001b[0m\u001b[3A\u001b[2K\u001b[6A\u001b[2K\u001b[1A\u001b[2K\u001b[5A\u001b[2K\u001b[4A\u001b[2KRemoving project-3-spanesarmids_spark_1      ... \n",
      "Removing project-3-spanesarmids_kafka_1      ... \n",
      "Removing project-3-spanesarmids_zookeeper_1  ... \n",
      "Removing project-3-spanesarmids_flask_1      ... \n",
      "Removing project-3-spanesarmids_cloudera_1   ... \n",
      "Removing project-3-spanesarmids_api_bridge_1 ... \n",
      "Removing project-3-spanesarmids_presto_1     ... \n",
      "\u001b[2BRemoving network project-3-spanesarmids_default32mdone\u001b[0m\u001b[7A\u001b[2K\u001b[2A\u001b[2K\n"
     ]
    }
   ],
   "source": [
    "!docker-compose down --remove-orphans"
   ]
  },
  {
   "cell_type": "code",
   "execution_count": 2,
   "metadata": {},
   "outputs": [
    {
     "name": "stdout",
     "output_type": "stream",
     "text": [
      "Creating network \"project-3-spanesarmids_default\" with the default driver\n",
      "Creating project-3-spanesarmids_api_bridge_1 ... \n",
      "Creating project-3-spanesarmids_zookeeper_1  ... \n",
      "Creating project-3-spanesarmids_flask_1      ... \n",
      "Creating project-3-spanesarmids_cloudera_1   ... \n",
      "Creating project-3-spanesarmids_presto_1     ... \n",
      "\u001b[2BCreating project-3-spanesarmids_spark_1      ... mdone\u001b[0m\u001b[3A\u001b[2K\n",
      "\u001b[5BCreating project-3-spanesarmids_kafka_1      ... mdone\u001b[0m\u001b[5A\u001b[2K\n",
      "\u001b[1Bting project-3-spanesarmids_kafka_1      ... \u001b[32mdone\u001b[0m\u001b[1A\u001b[2K"
     ]
    }
   ],
   "source": [
    "!docker-compose up -d"
   ]
  },
  {
   "cell_type": "code",
   "execution_count": 3,
   "metadata": {},
   "outputs": [
    {
     "name": "stdout",
     "output_type": "stream",
     "text": [
      "        Name                   Command           State             Ports        \n",
      "--------------------------------------------------------------------------------\n",
      "project-3-spanesarmid   /bin/bash               Up         8888/tcp             \n",
      "s_api_bridge_1                                                                  \n",
      "project-3-spanesarmid   /usr/bin/docker-        Exit 139                        \n",
      "s_cloudera_1            entrypoint ...                                          \n",
      "project-3-spanesarmid   /bin/bash               Up         5000/tcp, 8888/tcp   \n",
      "s_flask_1                                                                       \n",
      "project-3-spanesarmid   /etc/confluent/docker   Up         29092/tcp, 9092/tcp  \n",
      "s_kafka_1               /run                                                    \n",
      "project-3-spanesarmid   /usr/bin/docker-        Up         8080/tcp             \n",
      "s_presto_1              entrypoint ...                                          \n",
      "project-3-spanesarmid   docker-entrypoint.sh    Up         8888/tcp             \n",
      "s_spark_1               env P ...                                               \n",
      "project-3-spanesarmid   /etc/confluent/docker   Up         2181/tcp, 2888/tcp,  \n",
      "s_zookeeper_1           /run                               32181/tcp, 3888/tcp  \n"
     ]
    }
   ],
   "source": [
    "!docker-compose ps"
   ]
  },
  {
   "cell_type": "markdown",
   "metadata": {},
   "source": [
    "# View Docker Container Logs "
   ]
  },
  {
   "cell_type": "code",
   "execution_count": 4,
   "metadata": {},
   "outputs": [
    {
     "name": "stdout",
     "output_type": "stream",
     "text": [
      "Attaching to project3pparkitn_api_bridge_1\n"
     ]
    }
   ],
   "source": [
    "!docker-compose logs api_bridge | tail -5"
   ]
  },
  {
   "cell_type": "code",
   "execution_count": 5,
   "metadata": {},
   "outputs": [
    {
     "name": "stdout",
     "output_type": "stream",
     "text": [
      "Attaching to project3pparkitn_flask_1\n"
     ]
    }
   ],
   "source": [
    "!docker-compose logs flask | tail -5"
   ]
  },
  {
   "cell_type": "code",
   "execution_count": 6,
   "metadata": {},
   "outputs": [
    {
     "name": "stdout",
     "output_type": "stream",
     "text": [
      "Attaching to project3pparkitn_kafka_1\n",
      "\u001b[36mkafka_1       |\u001b[0m ===> User\n",
      "\u001b[36mkafka_1       |\u001b[0m uid=1000(appuser) gid=1000(appuser) groups=1000(appuser)\n",
      "\u001b[36mkafka_1       |\u001b[0m ===> Configuring ...\n"
     ]
    }
   ],
   "source": [
    "!docker-compose logs kafka | tail -5"
   ]
  },
  {
   "cell_type": "code",
   "execution_count": 7,
   "metadata": {},
   "outputs": [
    {
     "name": "stdout",
     "output_type": "stream",
     "text": [
      "Attaching to project3pparkitn_zookeeper_1\n",
      "\u001b[36mzookeeper_1   |\u001b[0m ===> User\n",
      "\u001b[36mzookeeper_1   |\u001b[0m uid=1000(appuser) gid=1000(appuser) groups=1000(appuser)\n",
      "\u001b[36mzookeeper_1   |\u001b[0m ===> Configuring ...\n"
     ]
    }
   ],
   "source": [
    "!docker-compose logs zookeeper | tail -5"
   ]
  },
  {
   "cell_type": "code",
   "execution_count": 8,
   "metadata": {},
   "outputs": [
    {
     "name": "stdout",
     "output_type": "stream",
     "text": [
      "\u001b[36mcloudera_1    |\u001b[0m \n",
      "\u001b[36mcloudera_1    |\u001b[0m JMX enabled by default\n",
      "\u001b[36mcloudera_1    |\u001b[0m Using config: /etc/zookeeper/conf/zoo.cfg\n",
      "\u001b[36mcloudera_1    |\u001b[0m Starting zookeeper ... STARTED\n",
      "\u001b[36mcloudera_1    |\u001b[0m starting datanode, logging to /var/log/hadoop-hdfs/hadoop-hdfs-datanode-cloudera.out\n"
     ]
    }
   ],
   "source": [
    "!docker-compose logs cloudera | tail -5"
   ]
  },
  {
   "cell_type": "code",
   "execution_count": 9,
   "metadata": {},
   "outputs": [
    {
     "name": "stdout",
     "output_type": "stream",
     "text": [
      "\u001b[36mpresto_1      |\u001b[0m 2020-12-04T15:00:57.991-0800\tINFO\tmain\tBootstrap\tnode.external-address                                                 null                              null\n",
      "\u001b[36mpresto_1      |\u001b[0m 2020-12-04T15:00:58.005-0800\tINFO\tmain\tBootstrap\tnode.id                                                               null                              6d6f4dfe-3427-11e8-9cb4-002590025930\n",
      "\u001b[36mpresto_1      |\u001b[0m 2020-12-04T15:00:58.005-0800\tINFO\tmain\tBootstrap\tnode.ip                                                               null                              null\n",
      "\u001b[36mpresto_1      |\u001b[0m 2020-12-04T15:00:58.005-0800\tINFO\tmain\tBootstrap\tnode.pool                                                             general                           general\n",
      "\u001b[36mpresto_1      |\u001b[0m 2020-12-04T15:00:58.005-0800\tINFO\tmain\tBootstrap\t\n"
     ]
    }
   ],
   "source": [
    "!docker-compose logs presto | tail -5"
   ]
  },
  {
   "cell_type": "code",
   "execution_count": 10,
   "metadata": {},
   "outputs": [
    {
     "name": "stdout",
     "output_type": "stream",
     "text": [
      "\u001b[36mspark_1       |\u001b[0m [C 23:00:58.509 NotebookApp] \n",
      "\u001b[36mspark_1       |\u001b[0m     \n",
      "\u001b[36mspark_1       |\u001b[0m     Copy/paste this URL into your browser when you connect for the first time,\n",
      "\u001b[36mspark_1       |\u001b[0m     to login with a token:\n",
      "\u001b[36mspark_1       |\u001b[0m         http://0.0.0.0:8888/?token=a24adb9975a3d619ac1fd6fdd4cb75a16fbe22dbb486bafd\n"
     ]
    }
   ],
   "source": [
    "!docker-compose logs spark | tail -5"
   ]
  },
  {
   "cell_type": "markdown",
   "metadata": {},
   "source": [
    "# Installing Required Python Packages for Flask"
   ]
  },
  {
   "cell_type": "code",
   "execution_count": 11,
   "metadata": {},
   "outputs": [
    {
     "name": "stdout",
     "output_type": "stream",
     "text": [
      "\u001b[33mThe directory '/w205/.cache/pip/http' or its parent directory is not owned by the current user and the cache has been disabled. Please check the permissions and owner of that directory. If executing pip with sudo, you may want sudo's -H flag.\u001b[0m\n",
      "\u001b[33mThe directory '/w205/.cache/pip' or its parent directory is not owned by the current user and caching wheels has been disabled. check the permissions and owner of that directory. If executing pip with sudo, you may want sudo's -H flag.\u001b[0m\n",
      "Collecting flask_restful\n",
      "  Downloading https://files.pythonhosted.org/packages/e9/83/d0d33c971de2d38e54b0037136c8b8d20b9c83d308bc6c220a25162755fd/Flask_RESTful-0.3.8-py2.py3-none-any.whl\n",
      "Collecting sqlalchemy\n",
      "  Downloading https://files.pythonhosted.org/packages/09/0d/97b2ef803cbbf84d873b3bca0c05c48f92213dd744df731d6c3ed0730e4c/SQLAlchemy-1.3.20-cp27-cp27mu-manylinux1_x86_64.whl (1.2MB)\n",
      "\u001b[K    100% |################################| 1.2MB 372kB/s ta 0:00:011\n",
      "\u001b[?25hCollecting flask_httpauth\n",
      "  Downloading https://files.pythonhosted.org/packages/b7/10/387aba19908b3fedc45741aa7e8122d3328987efacde7acc4dcfb05075f2/Flask_HTTPAuth-4.2.0-py2.py3-none-any.whl\n",
      "Collecting termcolor\n",
      "  Downloading https://files.pythonhosted.org/packages/8a/48/a76be51647d0eb9f10e2a4511bf3ffb8cc1e6b14e9e4fab46173aa79f981/termcolor-1.1.0.tar.gz\n",
      "Collecting aniso8601>=0.82 (from flask_restful)\n",
      "  Downloading https://files.pythonhosted.org/packages/93/4e/760c0aaf32034e2da98e1ac6d83b6ffc6d1301132af54c3950ee07785bfa/aniso8601-8.1.0-py2.py3-none-any.whl (44kB)\n",
      "\u001b[K    100% |################################| 51kB 3.6MB/s eta 0:00:01\n",
      "\u001b[?25hRequirement already satisfied (use --upgrade to upgrade): pytz in /usr/lib/python2.7/dist-packages (from flask_restful)\n",
      "Requirement already satisfied (use --upgrade to upgrade): six>=1.3.0 in /usr/lib/python2.7/dist-packages (from flask_restful)\n",
      "Requirement already satisfied (use --upgrade to upgrade): Flask>=0.8 in /usr/local/lib/python2.7/dist-packages (from flask_restful)\n",
      "Requirement already satisfied (use --upgrade to upgrade): Jinja2>=2.4 in /usr/local/lib/python2.7/dist-packages (from Flask>=0.8->flask_restful)\n",
      "Requirement already satisfied (use --upgrade to upgrade): Werkzeug>=0.7 in /usr/local/lib/python2.7/dist-packages (from Flask>=0.8->flask_restful)\n",
      "Requirement already satisfied (use --upgrade to upgrade): click>=2.0 in /usr/local/lib/python2.7/dist-packages (from Flask>=0.8->flask_restful)\n",
      "Requirement already satisfied (use --upgrade to upgrade): itsdangerous>=0.21 in /usr/local/lib/python2.7/dist-packages (from Flask>=0.8->flask_restful)\n",
      "Requirement already satisfied (use --upgrade to upgrade): MarkupSafe>=0.23 in /usr/local/lib/python2.7/dist-packages (from Jinja2>=2.4->Flask>=0.8->flask_restful)\n",
      "Installing collected packages: aniso8601, flask-restful, sqlalchemy, flask-httpauth, termcolor\n",
      "  Running setup.py install for termcolor ... \u001b[?25ldone\n",
      "\u001b[?25hSuccessfully installed aniso8601-8.1.0 flask-httpauth-4.2.0 flask-restful-0.3.8 sqlalchemy-1.3.20 termcolor-1.1.0\n",
      "\u001b[33mYou are using pip version 8.1.1, however version 20.3.1 is available.\n",
      "You should consider upgrading via the 'pip install --upgrade pip' command.\u001b[0m\n"
     ]
    }
   ],
   "source": [
    "!docker-compose exec flask sudo pip install flask_restful sqlalchemy flask_httpauth termcolor"
   ]
  },
  {
   "cell_type": "markdown",
   "metadata": {},
   "source": [
    "# Installing Required Packages for API-Bridge "
   ]
  },
  {
   "cell_type": "code",
   "execution_count": 12,
   "metadata": {},
   "outputs": [
    {
     "name": "stdout",
     "output_type": "stream",
     "text": [
      "\u001b[33mThe directory '/w205/.cache/pip/http' or its parent directory is not owned by the current user and the cache has been disabled. Please check the permissions and owner of that directory. If executing pip with sudo, you may want sudo's -H flag.\u001b[0m\n",
      "\u001b[33mThe directory '/w205/.cache/pip' or its parent directory is not owned by the current user and caching wheels has been disabled. check the permissions and owner of that directory. If executing pip with sudo, you may want sudo's -H flag.\u001b[0m\n",
      "Collecting pip\n",
      "  Downloading https://files.pythonhosted.org/packages/ab/11/2dc62c5263d9eb322f2f028f7b56cd9d096bb8988fcf82d65fa2e4057afe/pip-20.3.1-py2.py3-none-any.whl (1.5MB)\n",
      "\u001b[K    100% |################################| 1.5MB 457kB/s ta 0:00:011\n",
      "\u001b[?25hInstalling collected packages: pip\n",
      "  Found existing installation: pip 8.1.1\n",
      "    Not uninstalling pip at /usr/lib/python2.7/dist-packages, outside environment /usr\n",
      "Successfully installed pip-20.3.1\n"
     ]
    }
   ],
   "source": [
    "!docker-compose exec api_bridge sudo pip install --upgrade pip"
   ]
  },
  {
   "cell_type": "code",
   "execution_count": 13,
   "metadata": {},
   "outputs": [
    {
     "name": "stdout",
     "output_type": "stream",
     "text": [
      "\u001b[33mDEPRECATION: Python 2.7 reached the end of its life on January 1st, 2020. Please upgrade your Python as Python 2.7 is no longer maintained. pip 21.0 will drop support for Python 2.7 in January 2021. More details about Python 2 support in pip can be found at https://pip.pypa.io/en/latest/development/release-process/#python-2-support pip 21.0 will remove support for this functionality.\u001b[0m\n",
      "\u001b[33mWARNING: The directory '/w205/.cache/pip' or its parent directory is not owned or is not writable by the current user. The cache has been disabled. Check the permissions and owner of that directory. If executing pip with sudo, you may want sudo's -H flag.\u001b[0m\n",
      "Collecting pandas\n",
      "  Downloading pandas-0.24.2-cp27-cp27mu-manylinux1_x86_64.whl (10.1 MB)\n",
      "\u001b[K     |################################| 10.1 MB 8.5 MB/s eta 0:00:01\n",
      "\u001b[?25hCollecting termcolor\n",
      "  Downloading termcolor-1.1.0.tar.gz (3.9 kB)\n",
      "Collecting numpy>=1.12.0\n",
      "  Downloading numpy-1.16.6-cp27-cp27mu-manylinux1_x86_64.whl (17.0 MB)\n",
      "\u001b[K     |################################| 17.0 MB 10.6 MB/s eta 0:00:01\n",
      "\u001b[?25hCollecting python-dateutil>=2.5.0\n",
      "  Downloading python_dateutil-2.8.1-py2.py3-none-any.whl (227 kB)\n",
      "\u001b[K     |################################| 227 kB 15.8 MB/s eta 0:00:01\n",
      "\u001b[?25hRequirement already satisfied: pytz>=2011k in /usr/lib/python2.7/dist-packages (from pandas) (2014.10)\n",
      "Requirement already satisfied: six>=1.5 in /usr/lib/python2.7/dist-packages (from python-dateutil>=2.5.0->pandas) (1.10.0)\n",
      "Building wheels for collected packages: termcolor\n",
      "  Building wheel for termcolor (setup.py) ... \u001b[?25ldone\n",
      "\u001b[?25h  Created wheel for termcolor: filename=termcolor-1.1.0-py2-none-any.whl size=5680 sha256=3c16e1ac1bd7d0a7f0b013a3a6b4d630a9c88420fd6a242fcf63255c9494ed0e\n",
      "  Stored in directory: /tmp/pip-ephem-wheel-cache-hA5R0t/wheels/48/54/87/2f4d1a48c87e43906477a3c93d9663c49ca092046d5a4b00b4\n",
      "Successfully built termcolor\n",
      "Installing collected packages: numpy, python-dateutil, pandas, termcolor\n",
      "Successfully installed numpy-1.16.6 pandas-0.24.2 python-dateutil-2.8.1 termcolor-1.1.0\n"
     ]
    }
   ],
   "source": [
    "!docker-compose exec api_bridge sudo pip install pandas termcolor"
   ]
  },
  {
   "cell_type": "markdown",
   "metadata": {},
   "source": [
    "# Kafka Set Up Topics"
   ]
  },
  {
   "cell_type": "code",
   "execution_count": 14,
   "metadata": {},
   "outputs": [
    {
     "name": "stdout",
     "output_type": "stream",
     "text": [
      "Created topic patient.\n"
     ]
    }
   ],
   "source": [
    "!docker-compose exec kafka \\\n",
    "  kafka-topics \\\n",
    "    --create \\\n",
    "    --topic patient \\\n",
    "    --partitions 1 \\\n",
    "    --replication-factor 1 \\\n",
    "    --if-not-exists \\\n",
    "    --zookeeper zookeeper:32181"
   ]
  },
  {
   "cell_type": "code",
   "execution_count": 15,
   "metadata": {},
   "outputs": [
    {
     "name": "stdout",
     "output_type": "stream",
     "text": [
      "Created topic admissions.\n"
     ]
    }
   ],
   "source": [
    "!docker-compose exec kafka \\\n",
    "  kafka-topics \\\n",
    "    --create \\\n",
    "    --topic admissions \\\n",
    "    --partitions 1 \\\n",
    "    --replication-factor 1 \\\n",
    "    --if-not-exists \\\n",
    "    --zookeeper zookeeper:32181"
   ]
  },
  {
   "cell_type": "code",
   "execution_count": 16,
   "metadata": {},
   "outputs": [
    {
     "name": "stdout",
     "output_type": "stream",
     "text": [
      "WARNING: Due to limitations in metric names, topics with a period ('.') or underscore ('_') could collide. To avoid issues it is best to use either, but not both.\n",
      "Created topic lab_results.\n"
     ]
    }
   ],
   "source": [
    "!docker-compose exec kafka \\\n",
    "  kafka-topics \\\n",
    "    --create \\\n",
    "    --topic lab_results \\\n",
    "    --partitions 1 \\\n",
    "    --replication-factor 1 \\\n",
    "    --if-not-exists \\\n",
    "    --zookeeper zookeeper:32181"
   ]
  },
  {
   "cell_type": "markdown",
   "metadata": {},
   "source": [
    "# Start Flask\n",
    "- docker-compose exec flask bash\n",
    "- python main.py\n",
    "\n",
    "# Start API-Bridge\n",
    "- docker-compose exec api_bridge bash\n",
    "- python main.py"
   ]
  },
  {
   "cell_type": "markdown",
   "metadata": {},
   "source": [
    "# Stream Job Using Spark\n",
    "- docker-compose exec spark spark-submit /w205/project-3-spanesarmids/Spark/stream_patients.py\n",
    "- docker-compose exec spark spark-submit /w205/project-3-spanesarmids/Spark/stream_admissions.py\n",
    "- docker-compose exec spark spark-submit /w205/project-3-spanesarmids/Spark/stream_lab_results.py"
   ]
  },
  {
   "cell_type": "markdown",
   "metadata": {},
   "source": [
    "# Get public IP Address"
   ]
  },
  {
   "cell_type": "code",
   "execution_count": 17,
   "metadata": {},
   "outputs": [
    {
     "name": "stdout",
     "output_type": "stream",
     "text": [
      "IP is: 34.83.138.185\n"
     ]
    }
   ],
   "source": [
    "from requests import get\n",
    "\n",
    "ip = get('https://api.ipify.org').text\n",
    "print ('IP is:', ip)"
   ]
  },
  {
   "cell_type": "markdown",
   "metadata": {},
   "source": [
    "# Check Parquet Files"
   ]
  },
  {
   "cell_type": "code",
   "execution_count": 18,
   "metadata": {},
   "outputs": [
    {
     "name": "stdout",
     "output_type": "stream",
     "text": [
      "Found 9 items\n",
      "drwxr-xr-x   - root   supergroup          0 2020-12-04 23:02 /tmp/admissions_rcd\n",
      "drwxrwxrwt   - root   supergroup          0 2020-12-04 23:02 /tmp/checkpoints_for_admissions\n",
      "drwxrwxrwt   - root   supergroup          0 2020-12-04 23:02 /tmp/checkpoints_for_lab_results\n",
      "drwxrwxrwt   - root   supergroup          0 2020-12-04 23:02 /tmp/checkpoints_for_patients\n",
      "drwxrwxrwt   - mapred mapred              0 2016-04-06 02:26 /tmp/hadoop-yarn\n",
      "drwx-wx-wx   - hive   supergroup          0 2020-12-04 23:01 /tmp/hive\n",
      "drwxr-xr-x   - root   supergroup          0 2020-12-04 23:03 /tmp/lab_results_rcd\n",
      "drwxrwxrwt   - mapred hadoop              0 2016-04-06 02:28 /tmp/logs\n",
      "drwxr-xr-x   - root   supergroup          0 2020-12-04 23:03 /tmp/patients_rcd\n"
     ]
    }
   ],
   "source": [
    "!docker-compose exec cloudera hadoop fs -ls /tmp/"
   ]
  },
  {
   "cell_type": "code",
   "execution_count": 19,
   "metadata": {},
   "outputs": [
    {
     "name": "stdout",
     "output_type": "stream",
     "text": [
      "Found 5 items\n",
      "drwxr-xr-x   - root supergroup          0 2020-12-04 23:03 /tmp/patients_rcd/_spark_metadata\n",
      "-rw-r--r--   1 root supergroup       4068 2020-12-04 23:02 /tmp/patients_rcd/part-00000-2550fdf9-ac21-4e12-93bc-92da09e4e25d-c000.snappy.parquet\n",
      "-rw-r--r--   1 root supergroup       3759 2020-12-04 23:03 /tmp/patients_rcd/part-00000-b9e96cd9-800e-4407-8cfc-a42fbf0836f4-c000.snappy.parquet\n",
      "-rw-r--r--   1 root supergroup       3745 2020-12-04 23:03 /tmp/patients_rcd/part-00000-c6805d4c-e4f1-4581-9742-763de13ca44a-c000.snappy.parquet\n",
      "-rw-r--r--   1 root supergroup       1079 2020-12-04 23:02 /tmp/patients_rcd/part-00000-fd7d450a-36ba-400a-9f2e-48b5bb433b5d-c000.snappy.parquet\n"
     ]
    }
   ],
   "source": [
    "!docker-compose exec cloudera hadoop fs -ls /tmp/patients_rcd/"
   ]
  },
  {
   "cell_type": "code",
   "execution_count": 20,
   "metadata": {},
   "outputs": [
    {
     "name": "stdout",
     "output_type": "stream",
     "text": [
      "Found 5 items\n",
      "drwxr-xr-x   - root supergroup          0 2020-12-04 23:03 /tmp/lab_results_rcd/_spark_metadata\n",
      "-rw-r--r--   1 root supergroup       2995 2020-12-04 23:03 /tmp/lab_results_rcd/part-00000-549f8168-1d79-4c20-9f26-4f674eb6db36-c000.snappy.parquet\n",
      "-rw-r--r--   1 root supergroup       3312 2020-12-04 23:03 /tmp/lab_results_rcd/part-00000-69bd7136-219b-450d-ad3c-fda8fa5fede0-c000.snappy.parquet\n",
      "-rw-r--r--   1 root supergroup        870 2020-12-04 23:02 /tmp/lab_results_rcd/part-00000-b5ca8be5-81d1-43f8-b7ad-bb42fd7658ef-c000.snappy.parquet\n",
      "-rw-r--r--   1 root supergroup       3164 2020-12-04 23:03 /tmp/lab_results_rcd/part-00000-c51c3c37-8e2a-46c3-894c-0226736e8a1e-c000.snappy.parquet\n"
     ]
    }
   ],
   "source": [
    "!docker-compose exec cloudera hadoop fs -ls /tmp/lab_results_rcd/"
   ]
  },
  {
   "cell_type": "code",
   "execution_count": 21,
   "metadata": {},
   "outputs": [
    {
     "name": "stdout",
     "output_type": "stream",
     "text": [
      "Found 3 items\n",
      "drwxr-xr-x   - root supergroup          0 2020-12-04 23:02 /tmp/admissions_rcd/_spark_metadata\n",
      "-rw-r--r--   1 root supergroup       3399 2020-12-04 23:02 /tmp/admissions_rcd/part-00000-4c20bb64-e23a-44b2-946d-2b6f96c634d3-c000.snappy.parquet\n",
      "-rw-r--r--   1 root supergroup        964 2020-12-04 23:02 /tmp/admissions_rcd/part-00000-556f5e32-a451-4c43-b3d0-a2508d45cf91-c000.snappy.parquet\n"
     ]
    }
   ],
   "source": [
    "!docker-compose exec cloudera hadoop fs -ls /tmp/admissions_rcd/"
   ]
  },
  {
   "cell_type": "markdown",
   "metadata": {},
   "source": [
    "# Create Tables Using Hive"
   ]
  },
  {
   "cell_type": "code",
   "execution_count": 22,
   "metadata": {},
   "outputs": [
    {
     "name": "stdout",
     "output_type": "stream",
     "text": [
      "2020-12-04 23:03:42,314 WARN  [main] mapreduce.TableMapReduceUtil: The hbase-prefix-tree module jar containing PrefixTreeCodec is not present.  Continuing without it.\n",
      "\n",
      "Logging initialized using configuration in file:/etc/hive/conf.dist/hive-log4j.properties\n",
      "OK\n",
      "Time taken: 1.109 seconds\n",
      "WARN: The method class org.apache.commons.logging.impl.SLF4JLogFactory#release() was invoked.\n",
      "WARN: Please see http://www.slf4j.org/codes.html#release for an explanation.\n"
     ]
    }
   ],
   "source": [
    "!docker-compose exec cloudera hive -f /w205/create_patients_table.sql"
   ]
  },
  {
   "cell_type": "code",
   "execution_count": 23,
   "metadata": {},
   "outputs": [
    {
     "name": "stdout",
     "output_type": "stream",
     "text": [
      "2020-12-04 23:03:51,151 WARN  [main] mapreduce.TableMapReduceUtil: The hbase-prefix-tree module jar containing PrefixTreeCodec is not present.  Continuing without it.\n",
      "\n",
      "Logging initialized using configuration in file:/etc/hive/conf.dist/hive-log4j.properties\n",
      "OK\n",
      "Time taken: 0.74 seconds\n",
      "WARN: The method class org.apache.commons.logging.impl.SLF4JLogFactory#release() was invoked.\n",
      "WARN: Please see http://www.slf4j.org/codes.html#release for an explanation.\n"
     ]
    }
   ],
   "source": [
    "!docker-compose exec cloudera hive -f /w205/create_admissions_table.sql"
   ]
  },
  {
   "cell_type": "code",
   "execution_count": 24,
   "metadata": {},
   "outputs": [
    {
     "name": "stdout",
     "output_type": "stream",
     "text": [
      "2020-12-04 23:03:59,099 WARN  [main] mapreduce.TableMapReduceUtil: The hbase-prefix-tree module jar containing PrefixTreeCodec is not present.  Continuing without it.\n",
      "\n",
      "Logging initialized using configuration in file:/etc/hive/conf.dist/hive-log4j.properties\n",
      "OK\n",
      "Time taken: 0.737 seconds\n",
      "WARN: The method class org.apache.commons.logging.impl.SLF4JLogFactory#release() was invoked.\n",
      "WARN: Please see http://www.slf4j.org/codes.html#release for an explanation.\n"
     ]
    }
   ],
   "source": [
    "!docker-compose exec cloudera hive -f /w205/create_lab_results_table.sql"
   ]
  },
  {
   "cell_type": "markdown",
   "metadata": {},
   "source": [
    "# Presto Checks\n",
    "## Checking if we have all the tables"
   ]
  },
  {
   "cell_type": "code",
   "execution_count": 48,
   "metadata": {},
   "outputs": [
    {
     "name": "stdout",
     "output_type": "stream",
     "text": [
      "\"admissions\"\n",
      "\"lab_results\"\n",
      "\"patients\"\n"
     ]
    }
   ],
   "source": [
    "!docker-compose exec presto presto --server presto:8080 --catalog hive --schema default\\\n",
    "    --execute \"show tables\""
   ]
  },
  {
   "cell_type": "markdown",
   "metadata": {},
   "source": [
    "## Checking the admission table"
   ]
  },
  {
   "cell_type": "code",
   "execution_count": 49,
   "metadata": {},
   "outputs": [
    {
     "name": "stdout",
     "output_type": "stream",
     "text": [
      "\"raw_event\",\"varchar\",\"\"\n",
      "\"timestamp\",\"varchar\",\"\"\n",
      "\"patientid\",\"varchar\",\"\"\n",
      "\"admissionid\",\"varchar\",\"\"\n",
      "\"admissionstartdate\",\"varchar\",\"\"\n",
      "\"admissionenddate\",\"varchar\",\"\"\n",
      "\"primarydiagnosiscode\",\"varchar\",\"\"\n",
      "\"primarydiagnosisdescription\",\"varchar\",\"\"\n"
     ]
    }
   ],
   "source": [
    "!docker-compose exec presto presto --server presto:8080 --catalog hive --schema default\\\n",
    "    --execute \"describe admissions\""
   ]
  },
  {
   "cell_type": "code",
   "execution_count": 50,
   "metadata": {},
   "outputs": [
    {
     "name": "stdout",
     "output_type": "stream",
     "text": [
      "\"304CCF67-C97D-4ED7-98CF-20F2480850AB\",\"2\",\"6/26/2012\",\"7/7/2012\",\"C69.6\",\"Malignant neoplasm of orbit\"\n",
      "\"A313C92B-0181-49DB-ACD3-3ED82C1C24D4\",\"6\",\"4/5/1998\",\"4/7/1998\",\"M02.362\",\"Reiter's disease\"\n",
      "\"E13246C5-5602-4BC5-9160-E652ED6775C7\",\"1\",\"4/3/1974\",\"4/20/1974\",\"E83\",\"Disorders of mineral metabolism\"\n",
      "\"CC1B5DB9-CF81-4CC4-835B-1B4740902014\",\"1\",\"7/4/1959\",\"7/15/1959\",\"D17.22\",\"Benign lipomatous neoplasm of skin and subcutaneous tissue of left arm\"\n",
      "\"4892FC67-4584-43F9-AC5C-3AFD9A140431\",\"1\",\"6/7/1992\",\"6/13/1992\",\"O99.611\",\"Diseases of the digestive system complicating pregnancy\"\n",
      "\"5E71A764-7681-49A6-807F-7F7D97476ABC\",\"3\",\"6/3/2005\",\"6/16/2005\",\"M90.552\",\"Osteonecrosis in diseases classified elsewhere\"\n",
      "\"730C4226-AC4C-4E17-B23C-2B57E08D7871\",\"4\",\"8/14/2007\",\"8/25/2007\",\"J44.0\",\"Chronic obstructive pulmonary disease with acute lower respiratory infection\"\n",
      "\"A6124898-7ED8-4932-B523-ABF5391CD42D\",\"5\",\"5/18/1993\",\"6/7/1993\",\"F31.7\",\"Bipolar disorder\"\n",
      "\"C3CB185A-ECEA-40F9-9E0D-092408CE6780\",\"3\",\"4/25/2012\",\"5/11/2012\",\"B96.4\",\"Proteus (mirabilis) (morganii) as the cause of diseases classified elsewhere\"\n",
      "\"8B5289BA-D8F2-461F-BDD0-A7FE06E3DBC2\",\"1\",\"12/4/2003\",\"12/6/2003\",\"O98.611\",\"Protozoal diseases complicating pregnancy\"\n"
     ]
    }
   ],
   "source": [
    "!docker-compose exec presto presto --server presto:8080 --catalog hive --schema default\\\n",
    "    --execute \"select patientid,admissionid,admissionstartdate,admissionenddate,primarydiagnosiscode, primarydiagnosisdescription from admissions limit 10\""
   ]
  },
  {
   "cell_type": "markdown",
   "metadata": {},
   "source": [
    "## Checking the lab_results table"
   ]
  },
  {
   "cell_type": "code",
   "execution_count": 28,
   "metadata": {},
   "outputs": [
    {
     "name": "stdout",
     "output_type": "stream",
     "text": [
      "\"raw_event\",\"varchar\",\"\"\n",
      "\"timestamp\",\"varchar\",\"\"\n",
      "\"patientid\",\"varchar\",\"\"\n",
      "\"admissionid\",\"varchar\",\"\"\n",
      "\"labname\",\"varchar\",\"\"\n",
      "\"labvalue\",\"varchar\",\"\"\n",
      "\"labunits\",\"varchar\",\"\"\n",
      "\"labdatetime\",\"varchar\",\"\"\n"
     ]
    }
   ],
   "source": [
    "!docker-compose exec presto presto --server presto:8080 --catalog hive --schema default\\\n",
    "    --execute \"describe lab_results\""
   ]
  },
  {
   "cell_type": "code",
   "execution_count": 29,
   "metadata": {},
   "outputs": [
    {
     "name": "stdout",
     "output_type": "stream",
     "text": [
      "\"418985FF-14A8-4F66-99E1-C8E058D32BE6\",\"2\",\"URINALYSIS: PH\",\"6.8\",\"no unit\",\"1983-06-05 18:56:30.883\"\n",
      "\"1DB3180F-E16D-43DE-9D98-EED8CF310099\",\"3\",\"CBC: ABSOLUTE NEUTROPHILS\",\"71.1\",\"%\",\"2001-08-21 20:11:28.770\"\n",
      "\"5B1906B5-1219-49F6-A03A-4953717450DB\",\"1\",\"CBC: RDW\",\"16.5\",\"%\",\"1991-04-10 05:59:30.760\"\n",
      "\"F37CC843-026C-4BE0-91FD-E9E080ED7093\",\"1\",\"CBC: MCH\",\"28.3\",\"pg\",\"1953-03-26 01:27:03.623\"\n",
      "\"479E278D-DBE6-4003-9510-C33BD898607F\",\"4\",\"CBC: HEMOGLOBIN\",\"15.9\",\"gm/dl\",\"2005-09-30 22:47:09.657\"\n",
      "\"B4615F53-B101-4ED6-9F60-6A50B396F433\",\"1\",\"METABOLIC: TOTAL PROTEIN\",\"10.0\",\"gm/dL\",\"1986-12-21 11:22:31.617\"\n"
     ]
    }
   ],
   "source": [
    "!docker-compose exec presto presto --server presto:8080 --catalog hive --schema default\\\n",
    "    --execute \"select patientid,admissionid,labname,labvalue,labunits,labdatetime from lab_results limit 10\""
   ]
  },
  {
   "cell_type": "markdown",
   "metadata": {},
   "source": [
    "## Checking the patients table"
   ]
  },
  {
   "cell_type": "code",
   "execution_count": 31,
   "metadata": {},
   "outputs": [
    {
     "name": "stdout",
     "output_type": "stream",
     "text": [
      "\"raw_event\",\"varchar\",\"\"\n",
      "\"timestamp\",\"varchar\",\"\"\n",
      "\"patientid\",\"varchar\",\"\"\n",
      "\"patientgender\",\"varchar\",\"\"\n",
      "\"patientdateofbirth\",\"varchar\",\"\"\n",
      "\"patientrace\",\"varchar\",\"\"\n",
      "\"patientmaritalstatus\",\"varchar\",\"\"\n",
      "\"patientlanguage\",\"varchar\",\"\"\n",
      "\"patientpopulationpercentagebelowpoverty\",\"varchar\",\"\"\n"
     ]
    }
   ],
   "source": [
    "!docker-compose exec presto presto --server presto:8080 --catalog hive --schema default\\\n",
    "    --execute \"describe patients\""
   ]
  },
  {
   "cell_type": "code",
   "execution_count": 32,
   "metadata": {},
   "outputs": [
    {
     "name": "stdout",
     "output_type": "stream",
     "text": [
      "\"7488E6D8-08DD-4B15-9433-BED873FBED62\",\"Male\",\"1969-06-15 08:05:32.263\",\"Asian\",\"Married\",\"English\",\"18.7\"\n",
      "\"1C2F3C46-A3AC-42A5-879F-0E892236B210\",\"Male\",\"1969-04-15 22:34:18.517\",\"White\",\"Married\",\"Spanish\",\"19.59\"\n",
      "\"3533C81D-8AC5-4278-91BD-5692D66D39A5\",\"Male\",\"1972-11-03 08:13:49.190\",\"White\",\"Single\",\"Icelandic\",\"10.99\"\n",
      "\"EDF0D582-EE52-4127-8D5F-738E8BD29E9B\",\"Male\",\"1945-07-25 19:43:55.630\",\"African American\",\"Single\",\"English\",\"16.01\"\n",
      "\"7A05939D-53F8-48C6-9EAD-EE97F086ADBC\",\"Female\",\"1957-07-03 15:19:50.270\",\"White\",\"Widowed\",\"English\",\"19.94\"\n",
      "\"B57342CF-BE59-46FA-A33C-5F2734820BF4\",\"Female\",\"1943-02-18 07:41:28.993\",\"African American\",\"Single\",\"Spanish\",\"16.38\"\n"
     ]
    }
   ],
   "source": [
    "!docker-compose exec presto presto --server presto:8080 --catalog hive --schema default\\\n",
    "    --execute \"select patientid,patientgender,patientdateofbirth,patientrace,patientmaritalstatus,patientlanguage,patientpopulationpercentagebelowpoverty from  patients limit 10\""
   ]
  },
  {
   "cell_type": "markdown",
   "metadata": {},
   "source": [
    "# Presto - Questions"
   ]
  },
  {
   "cell_type": "markdown",
   "metadata": {},
   "source": [
    "### How many male and female patients are there?"
   ]
  },
  {
   "cell_type": "code",
   "execution_count": 40,
   "metadata": {},
   "outputs": [
    {
     "name": "stdout",
     "output_type": "stream",
     "text": [
      "\"Male\",\"500\"\n",
      "\"Female\",\"536\"\n"
     ]
    }
   ],
   "source": [
    "!docker-compose exec presto presto --server presto:8080 --catalog hive --schema default\\\n",
    "    --execute \"select patientgender, count(*) P_CNT from patients group by patientgender\""
   ]
  },
  {
   "cell_type": "markdown",
   "metadata": {},
   "source": [
    "### What is the most common language spoken by patients?"
   ]
  },
  {
   "cell_type": "code",
   "execution_count": 41,
   "metadata": {},
   "outputs": [
    {
     "name": "stdout",
     "output_type": "stream",
     "text": [
      "\"English\",\"797\"\n",
      "\"Spanish\",\"208\"\n",
      "\"Icelandic\",\"139\"\n"
     ]
    }
   ],
   "source": [
    "!docker-compose exec presto presto --server presto:8080 --catalog hive --schema default\\\n",
    "    --execute \"select patientlanguage, count(*) P_CNT from patients group by patientlanguage\""
   ]
  },
  {
   "cell_type": "markdown",
   "metadata": {},
   "source": [
    "### What is the most frequent reason for hospital visits?"
   ]
  },
  {
   "cell_type": "code",
   "execution_count": 42,
   "metadata": {},
   "outputs": [
    {
     "name": "stdout",
     "output_type": "stream",
     "text": [
      "\"Kaschin-Beck disease\",\"20\"\n",
      "\"Bipolar disorder\",\"19\"\n",
      "\"Osteitis deformans in neoplastic diseases\",\"15\"\n",
      "\"Chronic gout due to renal impairment\",\"14\"\n",
      "\"Rheumatoid nodule\",\"14\"\n",
      "\"Disorder of ligament\",\"13\"\n",
      "\"Hydroxyapatite deposition disease\",\"13\"\n",
      "\"Rheumatoid arthritis without rheumatoid factor\",\"13\"\n",
      "\"Spondylopathy in diseases classified elsewhere\",\"10\"\n",
      "\"Disorders of muscle in diseases classified elsewhere\",\"10\"\n"
     ]
    }
   ],
   "source": [
    "!docker-compose exec presto presto --server presto:8080 --catalog hive --schema default\\\n",
    "    --execute \"select primarydiagnosisdescription, count(*) P_CNT from admissions group by primarydiagnosisdescription order by 2 desc limit 10\""
   ]
  },
  {
   "cell_type": "markdown",
   "metadata": {},
   "source": [
    "### How many different types of test are there?"
   ]
  },
  {
   "cell_type": "code",
   "execution_count": 43,
   "metadata": {},
   "outputs": [
    {
     "name": "stdout",
     "output_type": "stream",
     "text": [
      "\"CBC: RED BLOOD CELL COUNT\"\n",
      "\"CBC: EOSINOPHILS\"\n",
      "\"CBC: NEUTROPHILS\"\n",
      "\"METABOLIC: ALBUMIN\"\n",
      "\"CBC: MCH\"\n",
      "\"METABOLIC: ALK PHOS\"\n",
      "\"METABOLIC: POTASSIUM\"\n",
      "\"CBC: MCHC\"\n",
      "\"CBC: ABSOLUTE LYMPHOCYTES\"\n",
      "\"METABOLIC: SODIUM\"\n",
      "\"METABOLIC: CREATININE\"\n",
      "\"METABOLIC: CARBON DIOXIDE\"\n",
      "\"URINALYSIS: RED BLOOD CELLS\"\n",
      "\"METABOLIC: TOTAL PROTEIN\"\n",
      "\"CBC: RDW\"\n",
      "\"METABOLIC: ALT/SGPT\"\n",
      "\"METABOLIC: GLUCOSE\"\n",
      "\"CBC: LYMPHOCYTES\"\n",
      "\"URINALYSIS: PH\"\n",
      "\"METABOLIC: ANION GAP\"\n",
      "\"CBC: WHITE BLOOD CELL COUNT\"\n",
      "\"METABOLIC: BUN\"\n",
      "\"CBC: ABSOLUTE NEUTROPHILS\"\n",
      "\"URINALYSIS: SPECIFIC GRAVITY\"\n",
      "\"METABOLIC: CALCIUM\"\n",
      "\"CBC: MEAN CORPUSCULAR VOLUME\"\n",
      "\"CBC: BASOPHILS\"\n",
      "\"CBC: HEMOGLOBIN\"\n",
      "\"METABOLIC: AST/SGOT\"\n",
      "\"CBC: MONOCYTES\"\n",
      "\"CBC: HEMATOCRIT\"\n",
      "\"METABOLIC: CHLORIDE\"\n",
      "\"METABOLIC: BILI TOTAL\"\n",
      "\"CBC: PLATELET COUNT\"\n",
      "\"URINALYSIS: WHITE BLOOD CELLS\"\n"
     ]
    }
   ],
   "source": [
    "!docker-compose exec presto presto --server presto:8080 --catalog hive --schema default\\\n",
    "    --execute \"select distinct labname from lab_results\""
   ]
  },
  {
   "cell_type": "markdown",
   "metadata": {},
   "source": [
    "### What is the most common test ?"
   ]
  },
  {
   "cell_type": "code",
   "execution_count": 47,
   "metadata": {},
   "outputs": [
    {
     "name": "stdout",
     "output_type": "stream",
     "text": [
      "\"URINALYSIS: PH\",\"175\"\n"
     ]
    }
   ],
   "source": [
    "!docker-compose exec presto presto --server presto:8080 --catalog hive --schema default\\\n",
    "    --execute \"select labname, count(*) P_CNT from lab_results group by labname order by 2 desc limit 1\""
   ]
  },
  {
   "cell_type": "markdown",
   "metadata": {},
   "source": [
    "## DB Section: Flask API Authentication"
   ]
  },
  {
   "cell_type": "code",
   "execution_count": 45,
   "metadata": {},
   "outputs": [],
   "source": [
    "import sqlite3\n",
    "import pandas as pd\n",
    "\n",
    "# Create the connection\n",
    "cnx = sqlite3.connect(r'Flask/flask_auth_db.db')"
   ]
  },
  {
   "cell_type": "code",
   "execution_count": 46,
   "metadata": {},
   "outputs": [
    {
     "data": {
      "text/html": [
       "<div>\n",
       "<style scoped>\n",
       "    .dataframe tbody tr th:only-of-type {\n",
       "        vertical-align: middle;\n",
       "    }\n",
       "\n",
       "    .dataframe tbody tr th {\n",
       "        vertical-align: top;\n",
       "    }\n",
       "\n",
       "    .dataframe thead th {\n",
       "        text-align: right;\n",
       "    }\n",
       "</style>\n",
       "<table border=\"1\" class=\"dataframe\">\n",
       "  <thead>\n",
       "    <tr style=\"text-align: right;\">\n",
       "      <th></th>\n",
       "      <th>username</th>\n",
       "      <th>api_name</th>\n",
       "    </tr>\n",
       "  </thead>\n",
       "  <tbody>\n",
       "    <tr>\n",
       "      <th>0</th>\n",
       "      <td>user1</td>\n",
       "      <td>api_lab_results</td>\n",
       "    </tr>\n",
       "    <tr>\n",
       "      <th>1</th>\n",
       "      <td>user1</td>\n",
       "      <td>api_patient</td>\n",
       "    </tr>\n",
       "    <tr>\n",
       "      <th>2</th>\n",
       "      <td>user1</td>\n",
       "      <td>api_admissions</td>\n",
       "    </tr>\n",
       "    <tr>\n",
       "      <th>3</th>\n",
       "      <td>user2</td>\n",
       "      <td>api_lab_results</td>\n",
       "    </tr>\n",
       "    <tr>\n",
       "      <th>4</th>\n",
       "      <td>user2</td>\n",
       "      <td>api_patient</td>\n",
       "    </tr>\n",
       "    <tr>\n",
       "      <th>5</th>\n",
       "      <td>user3</td>\n",
       "      <td>api_admissions</td>\n",
       "    </tr>\n",
       "  </tbody>\n",
       "</table>\n",
       "</div>"
      ],
      "text/plain": [
       "  username         api_name\n",
       "0    user1  api_lab_results\n",
       "1    user1      api_patient\n",
       "2    user1   api_admissions\n",
       "3    user2  api_lab_results\n",
       "4    user2      api_patient\n",
       "5    user3   api_admissions"
      ]
     },
     "execution_count": 46,
     "metadata": {},
     "output_type": "execute_result"
    }
   ],
   "source": [
    "pd.read_sql_query(\"\"\"\n",
    "SELECT \n",
    "    username,\n",
    "    name api_name\n",
    "    FROM api_users al1 \n",
    "    join map_users_api al2 on al1.id = al2.id_api_users join api_list al3 on al2.id_api_list = al3.id\"\"\", cnx)"
   ]
  },
  {
   "cell_type": "code",
   "execution_count": null,
   "metadata": {},
   "outputs": [],
   "source": []
  }
 ],
 "metadata": {
  "environment": {
   "name": "tf2-gpu.2-1.m59",
   "type": "gcloud",
   "uri": "gcr.io/deeplearning-platform-release/tf2-gpu.2-1:m59"
  },
  "kernelspec": {
   "display_name": "Python 3",
   "language": "python",
   "name": "python3"
  },
  "language_info": {
   "codemirror_mode": {
    "name": "ipython",
    "version": 3
   },
   "file_extension": ".py",
   "mimetype": "text/x-python",
   "name": "python",
   "nbconvert_exporter": "python",
   "pygments_lexer": "ipython3",
   "version": "3.7.8"
  }
 },
 "nbformat": 4,
 "nbformat_minor": 4
}
