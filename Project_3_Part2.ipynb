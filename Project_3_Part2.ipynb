{
 "cells": [
  {
   "cell_type": "code",
   "execution_count": 1,
   "metadata": {},
   "outputs": [
    {
     "data": {
      "text/html": [
       "<style>.container { width:95% !important; }</style>"
      ],
      "text/plain": [
       "<IPython.core.display.HTML object>"
      ]
     },
     "metadata": {},
     "output_type": "display_data"
    }
   ],
   "source": [
    "import pyspark\n",
    "import pandas as pd\n",
    "from pyspark.sql import Row\n",
    "from pyspark.sql.types import StructType,StructField,StringType,IntegerType,TimestampType,BooleanType\n",
    "\n",
    "from IPython.core.display import display, HTML\n",
    "display(HTML(\"<style>.container { width:95% !important; }</style>\"))\n",
    "\n",
    "import IPython\n",
    "IPython.auto_scroll_threshold = 9999\n",
    "\n",
    "from IPython.core.interactiveshell import InteractiveShell\n",
    "InteractiveShell.ast_node_interactivity = \"all\"\n",
    "from IPython.display import display\n",
    "\n",
    "import json\n",
    "from pyspark.sql import SparkSession\n",
    "from pyspark.sql.functions import udf, from_json\n",
    "from pyspark.sql.types import StructType, StructField, StringType"
   ]
  },
  {
   "cell_type": "markdown",
   "metadata": {},
   "source": [
    "# Patients"
   ]
  },
  {
   "cell_type": "code",
   "execution_count": 2,
   "metadata": {
    "collapsed": true,
    "jupyter": {
     "outputs_hidden": true
    }
   },
   "outputs": [],
   "source": [
    "patients_raw = spark.read.format(\"kafka\").option(\"kafka.bootstrap.servers\", \"kafka:29092\")\\\n",
    ".option(\"subscribe\",\"patient\")\\\n",
    ".option(\"startingOffsets\", \"earliest\")\\\n",
    ".option(\"endingOffsets\", \"latest\")\\\n",
    ".load() "
   ]
  },
  {
   "cell_type": "code",
   "execution_count": 3,
   "metadata": {
    "collapsed": true,
    "jupyter": {
     "outputs_hidden": true
    }
   },
   "outputs": [],
   "source": [
    "@udf('boolean')\n",
    "def is_Defined_PatientRace(event_as_json):\n",
    "    \"\"\"udf for filtering events\n",
    "    \"\"\"\n",
    "    event = json.loads(event_as_json)\n",
    "    if event['PatientRace'] != 'Unknown':\n",
    "        return True\n",
    "    return False"
   ]
  },
  {
   "cell_type": "code",
   "execution_count": 4,
   "metadata": {
    "collapsed": true,
    "jupyter": {
     "outputs_hidden": true
    }
   },
   "outputs": [],
   "source": [
    "@udf('boolean')\n",
    "def is_Defined_PatientLanguage(event_as_json):\n",
    "    \"\"\"udf for filtering events\n",
    "    \"\"\"\n",
    "    event = json.loads(event_as_json)\n",
    "    if event['PatientLanguage'] != 'Unknown':\n",
    "        return True\n",
    "    return False"
   ]
  },
  {
   "cell_type": "code",
   "execution_count": 5,
   "metadata": {
    "collapsed": true,
    "jupyter": {
     "outputs_hidden": true
    }
   },
   "outputs": [],
   "source": [
    "def patient_schema():\n",
    "     return StructType(\n",
    "                        [StructField(\"PatientID\",StringType(),True),\n",
    "                         StructField(\"PatientGender\",StringType(),True),\n",
    "                         StructField(\"PatientDateOfBirth\",StringType(),True),\n",
    "                         StructField(\"PatientRace\",StringType(),True),\n",
    "                         StructField(\"PatientMaritalStatus\",StringType(),True),\n",
    "                         StructField(\"PatientLanguage\",StringType(),True),                                                                                                  \n",
    "                         StructField(\"PatientPopulationPercentageBelowPoverty\",StringType(),True)\n",
    "                        ]\n",
    "                    )"
   ]
  },
  {
   "cell_type": "code",
   "execution_count": 6,
   "metadata": {},
   "outputs": [
    {
     "name": "stdout",
     "output_type": "stream",
     "text": [
      "+----+--------------------+-------+---------+------+--------------------+-------------+\n",
      "| key|               value|  topic|partition|offset|           timestamp|timestampType|\n",
      "+----+--------------------+-------+---------+------+--------------------+-------------+\n",
      "|null|[7B 22 50 61 74 6...|patient|        0|     0|2020-12-04 22:57:...|            0|\n",
      "|null|[7B 22 50 61 74 6...|patient|        0|     1|2020-12-04 22:57:...|            0|\n",
      "|null|[7B 22 50 61 74 6...|patient|        0|     2|2020-12-04 22:58:...|            0|\n",
      "+----+--------------------+-------+---------+------+--------------------+-------------+\n",
      "\n"
     ]
    }
   ],
   "source": [
    "patients_raw.show(truncate = True)"
   ]
  },
  {
   "cell_type": "code",
   "execution_count": 7,
   "metadata": {
    "collapsed": true,
    "jupyter": {
     "outputs_hidden": true
    }
   },
   "outputs": [],
   "source": [
    "patients_clean = patients_raw\\\n",
    "                .filter(is_Defined_PatientRace(patients_raw.value.cast('string'))) \\\n",
    "                .filter(is_Defined_PatientLanguage(patients_raw.value.cast('string'))) \\\n",
    "                .select(patients_raw.value.cast('string').alias('raw_event'),\\\n",
    "                patients_raw.timestamp.cast('string'),\\\n",
    "                from_json(patients_raw.value.cast('string'),\\\n",
    "                patient_schema()).alias('json')).select('raw_event', 'timestamp', 'json.*')"
   ]
  },
  {
   "cell_type": "code",
   "execution_count": 8,
   "metadata": {},
   "outputs": [
    {
     "name": "stdout",
     "output_type": "stream",
     "text": [
      "root\n",
      " |-- raw_event: string (nullable = true)\n",
      " |-- timestamp: string (nullable = true)\n",
      " |-- PatientID: string (nullable = true)\n",
      " |-- PatientGender: string (nullable = true)\n",
      " |-- PatientDateOfBirth: string (nullable = true)\n",
      " |-- PatientRace: string (nullable = true)\n",
      " |-- PatientMaritalStatus: string (nullable = true)\n",
      " |-- PatientLanguage: string (nullable = true)\n",
      " |-- PatientPopulationPercentageBelowPoverty: string (nullable = true)\n",
      "\n"
     ]
    }
   ],
   "source": [
    "patients_clean.printSchema()"
   ]
  },
  {
   "cell_type": "code",
   "execution_count": 9,
   "metadata": {},
   "outputs": [
    {
     "name": "stdout",
     "output_type": "stream",
     "text": [
      "+--------------------+--------------------+--------------------+-------------+--------------------+----------------+--------------------+---------------+---------------------------------------+\n",
      "|           raw_event|           timestamp|           PatientID|PatientGender|  PatientDateOfBirth|     PatientRace|PatientMaritalStatus|PatientLanguage|PatientPopulationPercentageBelowPoverty|\n",
      "+--------------------+--------------------+--------------------+-------------+--------------------+----------------+--------------------+---------------+---------------------------------------+\n",
      "|{\"PatientID\":\"302...|2020-12-04 22:57:...|302130A8-171B-414...|       Female|1984-12-06 14:09:...|           White|             Married|        English|                                    3.2|\n",
      "|{\"PatientID\":\"EDA...|2020-12-04 22:57:...|EDA9123E-E39F-420...|       Female|1930-01-13 09:32:...|           White|             Married|        English|                                  10.25|\n",
      "|{\"PatientID\":\"EDF...|2020-12-04 22:58:...|EDF0D582-EE52-412...|         Male|1945-07-25 19:43:...|African American|              Single|        English|                                  16.01|\n",
      "+--------------------+--------------------+--------------------+-------------+--------------------+----------------+--------------------+---------------+---------------------------------------+\n",
      "\n"
     ]
    }
   ],
   "source": [
    "patients_clean.show(5)"
   ]
  },
  {
   "cell_type": "markdown",
   "metadata": {},
   "source": [
    "# Admissions"
   ]
  },
  {
   "cell_type": "code",
   "execution_count": 10,
   "metadata": {
    "collapsed": true,
    "jupyter": {
     "outputs_hidden": true
    }
   },
   "outputs": [],
   "source": [
    "admissions_raw = spark.read.format(\"kafka\").option(\"kafka.bootstrap.servers\", \"kafka:29092\")\\\n",
    ".option(\"subscribe\",\"admissions\")\\\n",
    ".option(\"startingOffsets\", \"earliest\")\\\n",
    ".option(\"endingOffsets\", \"latest\")\\\n",
    ".load() "
   ]
  },
  {
   "cell_type": "code",
   "execution_count": 11,
   "metadata": {
    "collapsed": true,
    "jupyter": {
     "outputs_hidden": true
    }
   },
   "outputs": [],
   "source": [
    "def admissions_schema():\n",
    "     return StructType(\n",
    "                        [StructField(\"PatientID\",StringType(),True),\n",
    "                         StructField(\"AdmissionID\",StringType(),True),\n",
    "                         StructField(\"AdmissionStartDate\",StringType(),True),\n",
    "                         StructField(\"AdmissionEndDate\",StringType(),True),\n",
    "                         StructField(\"PrimaryDiagnosisCode\",StringType(),True),\n",
    "                         StructField(\"PrimaryDiagnosisDescription\",StringType(),True),\n",
    "                        ]\n",
    "                    )"
   ]
  },
  {
   "cell_type": "code",
   "execution_count": 12,
   "metadata": {},
   "outputs": [
    {
     "name": "stdout",
     "output_type": "stream",
     "text": [
      "+----+--------------------+----------+---------+------+--------------------+-------------+\n",
      "| key|               value|     topic|partition|offset|           timestamp|timestampType|\n",
      "+----+--------------------+----------+---------+------+--------------------+-------------+\n",
      "|null|[7B 22 49 44 22 3...|admissions|        0|     0|2020-12-04 22:57:...|            0|\n",
      "|null|[7B 22 49 44 22 3...|admissions|        0|     1|2020-12-04 22:57:...|            0|\n",
      "|null|[7B 22 49 44 22 3...|admissions|        0|     2|2020-12-04 22:57:...|            0|\n",
      "+----+--------------------+----------+---------+------+--------------------+-------------+\n",
      "\n"
     ]
    }
   ],
   "source": [
    "admissions_raw.show(truncate = True)"
   ]
  },
  {
   "cell_type": "code",
   "execution_count": 13,
   "metadata": {
    "collapsed": true,
    "jupyter": {
     "outputs_hidden": true
    }
   },
   "outputs": [],
   "source": [
    "admissions_clean = admissions_raw\\\n",
    "                .select(admissions_raw.value.cast('string').alias('raw_event'),\\\n",
    "                admissions_raw.timestamp.cast('string'),\\\n",
    "                from_json(admissions_raw.value.cast('string'),\\\n",
    "                admissions_schema()).alias('json')).select('raw_event', 'timestamp', 'json.*')"
   ]
  },
  {
   "cell_type": "code",
   "execution_count": 14,
   "metadata": {},
   "outputs": [
    {
     "name": "stdout",
     "output_type": "stream",
     "text": [
      "root\n",
      " |-- raw_event: string (nullable = true)\n",
      " |-- timestamp: string (nullable = true)\n",
      " |-- PatientID: string (nullable = true)\n",
      " |-- AdmissionID: string (nullable = true)\n",
      " |-- AdmissionStartDate: string (nullable = true)\n",
      " |-- AdmissionEndDate: string (nullable = true)\n",
      " |-- PrimaryDiagnosisCode: string (nullable = true)\n",
      " |-- PrimaryDiagnosisDescription: string (nullable = true)\n",
      "\n"
     ]
    }
   ],
   "source": [
    "admissions_clean.printSchema()"
   ]
  },
  {
   "cell_type": "code",
   "execution_count": 15,
   "metadata": {},
   "outputs": [
    {
     "name": "stdout",
     "output_type": "stream",
     "text": [
      "+--------------------+--------------------+--------------------+-----------+------------------+----------------+--------------------+---------------------------+\n",
      "|           raw_event|           timestamp|           PatientID|AdmissionID|AdmissionStartDate|AdmissionEndDate|PrimaryDiagnosisCode|PrimaryDiagnosisDescription|\n",
      "+--------------------+--------------------+--------------------+-----------+------------------+----------------+--------------------+---------------------------+\n",
      "|{\"ID\":17909,\"Pati...|2020-12-04 22:57:...|040F3153-F8D4-44B...|          2|         4/25/2001|        5/2/2001|             E11.621|       Type 2 diabetes m...|\n",
      "|{\"ID\":1029,\"Patie...|2020-12-04 22:57:...|BB0C8FFA-8028-451...|          2|         3/13/2002|       3/17/2002|                 H62|       Disorders of exte...|\n",
      "|{\"ID\":16100,\"Pati...|2020-12-04 22:57:...|AF712E2F-19F0-459...|          2|         3/23/2012|        4/3/2012|              M11.01|       Hydroxyapatite de...|\n",
      "+--------------------+--------------------+--------------------+-----------+------------------+----------------+--------------------+---------------------------+\n",
      "\n"
     ]
    }
   ],
   "source": [
    "admissions_clean.show(5)"
   ]
  },
  {
   "cell_type": "markdown",
   "metadata": {},
   "source": [
    "# lab_results"
   ]
  },
  {
   "cell_type": "code",
   "execution_count": 16,
   "metadata": {
    "collapsed": true,
    "jupyter": {
     "outputs_hidden": true
    }
   },
   "outputs": [],
   "source": [
    "lab_results_raw = spark.read.format(\"kafka\").option(\"kafka.bootstrap.servers\", \"kafka:29092\")\\\n",
    ".option(\"subscribe\",\"lab_results\")\\\n",
    ".option(\"startingOffsets\", \"earliest\")\\\n",
    ".option(\"endingOffsets\", \"latest\")\\\n",
    ".load() "
   ]
  },
  {
   "cell_type": "code",
   "execution_count": 17,
   "metadata": {
    "collapsed": true,
    "jupyter": {
     "outputs_hidden": true
    }
   },
   "outputs": [],
   "source": [
    "def lab_results_schema():\n",
    "     return StructType(\n",
    "                        [StructField(\"PatientID\",StringType(),True),\n",
    "                         StructField(\"AdmissionID\",StringType(),True),\n",
    "                         StructField(\"LabName\",StringType(),True),\n",
    "                         StructField(\"LabValue\",StringType(),True),\n",
    "                         StructField(\"LabUnits\",StringType(),True),\n",
    "                         StructField(\"LabDateTime\",StringType(),True),\n",
    "                        ]\n",
    "                    )"
   ]
  },
  {
   "cell_type": "code",
   "execution_count": 18,
   "metadata": {},
   "outputs": [
    {
     "name": "stdout",
     "output_type": "stream",
     "text": [
      "+----+--------------------+-----------+---------+------+--------------------+-------------+\n",
      "| key|               value|      topic|partition|offset|           timestamp|timestampType|\n",
      "+----+--------------------+-----------+---------+------+--------------------+-------------+\n",
      "|null|[7B 22 55 6E 6E 6...|lab_results|        0|     0|2020-12-04 22:57:...|            0|\n",
      "+----+--------------------+-----------+---------+------+--------------------+-------------+\n",
      "\n"
     ]
    }
   ],
   "source": [
    "lab_results_raw.show(truncate = True)"
   ]
  },
  {
   "cell_type": "code",
   "execution_count": 19,
   "metadata": {
    "collapsed": true,
    "jupyter": {
     "outputs_hidden": true
    }
   },
   "outputs": [],
   "source": [
    "lab_results_clean = lab_results_raw\\\n",
    "                .select(lab_results_raw.value.cast('string').alias('raw_event'),\\\n",
    "                lab_results_raw.timestamp.cast('string'),\\\n",
    "                from_json(lab_results_raw.value.cast('string'),\\\n",
    "                lab_results_schema()).alias('json')).select('raw_event', 'timestamp', 'json.*')"
   ]
  },
  {
   "cell_type": "code",
   "execution_count": 20,
   "metadata": {},
   "outputs": [
    {
     "name": "stdout",
     "output_type": "stream",
     "text": [
      "root\n",
      " |-- raw_event: string (nullable = true)\n",
      " |-- timestamp: string (nullable = true)\n",
      " |-- PatientID: string (nullable = true)\n",
      " |-- AdmissionID: string (nullable = true)\n",
      " |-- LabName: string (nullable = true)\n",
      " |-- LabValue: string (nullable = true)\n",
      " |-- LabUnits: string (nullable = true)\n",
      " |-- LabDateTime: string (nullable = true)\n",
      "\n"
     ]
    }
   ],
   "source": [
    "lab_results_clean.printSchema()"
   ]
  },
  {
   "cell_type": "code",
   "execution_count": 21,
   "metadata": {},
   "outputs": [
    {
     "name": "stdout",
     "output_type": "stream",
     "text": [
      "+--------------------+--------------------+--------------------+-----------+--------+--------+--------+--------------------+\n",
      "|           raw_event|           timestamp|           PatientID|AdmissionID| LabName|LabValue|LabUnits|         LabDateTime|\n",
      "+--------------------+--------------------+--------------------+-----------+--------+--------+--------+--------------------+\n",
      "|{\"Unnamed: 0\":362...|2020-12-04 22:57:...|1BE02262-CCBF-4BB...|          5|CBC: MCH|    28.0|      pg|2009-08-14 08:16:...|\n",
      "+--------------------+--------------------+--------------------+-----------+--------+--------+--------+--------------------+\n",
      "\n"
     ]
    }
   ],
   "source": [
    "lab_results_clean.show(10)"
   ]
  }
 ],
 "metadata": {
  "environment": {
   "name": "tf2-gpu.2-1.m59",
   "type": "gcloud",
   "uri": "gcr.io/deeplearning-platform-release/tf2-gpu.2-1:m59"
  },
  "kernelspec": {
   "display_name": "Python 3",
   "language": "python",
   "name": "python3"
  },
  "language_info": {
   "codemirror_mode": {
    "name": "ipython",
    "version": 3
   },
   "file_extension": ".py",
   "mimetype": "text/x-python",
   "name": "python",
   "nbconvert_exporter": "python",
   "pygments_lexer": "ipython3",
   "version": "3.7.8"
  }
 },
 "nbformat": 4,
 "nbformat_minor": 4
}
